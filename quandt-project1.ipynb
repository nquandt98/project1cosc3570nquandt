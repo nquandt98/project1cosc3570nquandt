{
 "cells": [
  {
   "cell_type": "code",
   "execution_count": 1,
   "metadata": {},
   "outputs": [],
   "source": [
    "#This table is necessary in order to convert state name to abbreviation quickly\n",
    "#https://github.com/nquandt98/project1cosc3570nquandt\n",
    "\n",
    "\n",
    "us_state_abbrev = {\n",
    "    'Alabama': 'AL',\n",
    "    'Alaska': 'AK',\n",
    "    'Arizona': 'AZ',\n",
    "    'Arkansas': 'AR',\n",
    "    'California': 'CA',\n",
    "    'Colorado': 'CO',\n",
    "    'Connecticut': 'CT',\n",
    "    'Delaware': 'DE',\n",
    "    'Florida': 'FL',\n",
    "    'Georgia': 'GA',\n",
    "    'Hawaii': 'HI',\n",
    "    'Idaho': 'ID',\n",
    "    'Illinois': 'IL',\n",
    "    'Indiana': 'IN',\n",
    "    'Iowa': 'IA',\n",
    "    'Kansas': 'KS',\n",
    "    'Kentucky': 'KY',\n",
    "    'Louisiana': 'LA',\n",
    "    'Maine': 'ME',\n",
    "    'Maryland': 'MD',\n",
    "    'Massachusetts': 'MA',\n",
    "    'Michigan': 'MI',\n",
    "    'Minnesota': 'MN',\n",
    "    'Mississippi': 'MS',\n",
    "    'Missouri': 'MO',\n",
    "    'Montana': 'MT',\n",
    "    'Nebraska': 'NE',\n",
    "    'Nevada': 'NV',\n",
    "    'New Hampshire': 'NH',\n",
    "    'New Jersey': 'NJ',\n",
    "    'New Mexico': 'NM',\n",
    "    'New York': 'NY',\n",
    "    'North Carolina': 'NC',\n",
    "    'North Dakota': 'ND',\n",
    "    'Ohio': 'OH',\n",
    "    'Oklahoma': 'OK',\n",
    "    'Oregon': 'OR',\n",
    "    'Pennsylvania': 'PA',\n",
    "    'Rhode Island': 'RI',\n",
    "    'South Carolina': 'SC',\n",
    "    'South Dakota': 'SD',\n",
    "    'Tennessee': 'TN',\n",
    "    'Texas': 'TX',\n",
    "    'Utah': 'UT',\n",
    "    'Vermont': 'VT',\n",
    "    'Virginia': 'VA',\n",
    "    'Washington': 'WA',\n",
    "    'West Virginia': 'WV',\n",
    "    'Wisconsin': 'WI',\n",
    "    'Wyoming': 'WY',\n",
    "    'District of Columbia' : 'MD',\n",
    "}\n"
   ]
  },
  {
   "cell_type": "code",
   "execution_count": 35,
   "metadata": {
    "scrolled": false
   },
   "outputs": [
    {
     "name": "stdout",
     "output_type": "stream",
     "text": [
      "3798\r"
     ]
    },
    {
     "data": {
      "text/html": [
       "<iframe id=\"igraph\" scrolling=\"no\" style=\"border:none;\" seamless=\"seamless\" src=\"https://plot.ly/~nquand9t8/15.embed\" height=\"525px\" width=\"100%\"></iframe>"
      ],
      "text/plain": [
       "<plotly.tools.PlotlyDisplay object>"
      ]
     },
     "execution_count": 35,
     "metadata": {},
     "output_type": "execute_result"
    }
   ],
   "source": [
    "from datascience import *\n",
    "import plotly.plotly as py\n",
    "import plotly.graph_objs as go\n",
    "import plotly.figure_factory as ff\n",
    "import numpy\n",
    "import urllib\n",
    "import requests\n",
    "\n",
    "import pandas as pd\n",
    "df = pd.read_csv('https://raw.githubusercontent.com/nquandt98/project1cosc3570nquandt/master/cc_institution_details.csv', \n",
    "                 encoding='ANSI')\n",
    "\n",
    "#add state abbreviations to table\n",
    "stateindex = df.columns.get_loc(\"state\")+1\n",
    "i=0\n",
    "result_array = numpy.array([])\n",
    "for row in df.itertuples():\n",
    "    result_array = numpy.append(result_array, str(us_state_abbrev[row[stateindex]]))\n",
    "    i+=1\n",
    "    print(i,end=\"\\r\")\n",
    "df['state_code'] = pd.Series(result_array)\n",
    "\n",
    "#create a smaller table to change up as needed\n",
    "t = df[['chronname','control','FIPS','retain_value','awards_per_value','aid_value','aid_percentile','exp_award_value','state','state_code','level']]\n",
    "t = t.sort_values(by=['retain_value'],ascending = False)\n",
    "\n",
    "#eliminate 0 rows\n",
    "t = t[t.exp_award_value != 0]\n",
    "t = t[t.aid_value != 0]\n",
    "t.loc[t.exp_award_value == 0, 'exp_award_value'] = numpy.nan\n",
    "t.dropna(inplace=True)\n",
    "\n",
    "#create ratio value\n",
    "t['aid_to_exp'] = t['aid_value']/t['exp_award_value']\n",
    "\n",
    "#select only public and 4year\n",
    "t = t[t.control == 'Public']\n",
    "t = t[t.level == '4-year']\n",
    "\n",
    "#copy table for cleaned graph\n",
    "t2 = t\n",
    "i='aid_to_exp'\n",
    "t2.loc[t2.aid_to_exp == 0, 'aid_to_exp'] = numpy.nan\n",
    "t2.dropna(inplace=True)\n",
    "t2['Log_' + i] = numpy.abs(numpy.log(t2[i]))\n",
    "q75, q25 = numpy.percentile(t2.Log_aid_to_exp.dropna(), [75 ,25])\n",
    "iqr = q75 - q25\n",
    "\n",
    "#use IQR to remove outliers statistically\n",
    "min = q25 - (iqr*1.5)\n",
    "max = q75 + (iqr*1.5)\n",
    "t2['Outlier'] = 0\n",
    "i ='Log_aid_to_exp'\n",
    "t2.loc[t2[i] < min, 'Outlier'] = 1\n",
    "t2.loc[t2[i] > max, 'Outlier'] = 1\n",
    "t2 = t2[t2.Outlier == 0]\n",
    "\n",
    "#create a trace for the graphs\n",
    "barGraphOriginalTrace = go.Bar(y=t.aid_to_exp,x=t.retain_value, name= 'Original')\n",
    "barGraphCleanedTrace = go.Bar(y=t2.aid_to_exp,x=t2.retain_value, name = 'Outliers Removed')\n",
    "scatterGraphOriginalTrace = go.Scatter(\n",
    "    x=t.retain_value,y=t.aid_to_exp,\n",
    "    mode = 'markers',\n",
    "    name = 'Original'\n",
    ")\n",
    "scatterGraphCleanedTrace = go.Scatter(\n",
    "    x=t2.retain_value,y=t2.aid_to_exp,\n",
    "    mode = 'markers',\n",
    "    name = 'Outliers Removed'\n",
    ")\n",
    "\n",
    "#compile traces over eachother\n",
    "bardata = [barGraphOriginalTrace,barGraphCleanedTrace]\n",
    "scatterdata = [scatterGraphOriginalTrace,scatterGraphCleanedTrace]\n",
    "\n",
    "#create layouts\n",
    "layout = {'xaxis': {'title': 'Retention Percentage of Students 1st-2nd Year'},\n",
    "  'yaxis': {'title': 'Ratio of Aid Given to Cost of Attending'},\n",
    "  'barmode': 'group',\n",
    "  'title': 'Comparison'}\n",
    "layout2 = {'xaxis': {'title': 'Retention Percentage of Students 1st-2nd Year'},\n",
    "  'yaxis': {'title': 'Ratio of Aid Given to Cost of Attending'},\n",
    "    'title': 'Scatter Comparison'}\n",
    "barFigure = go.Figure(data = bardata,layout= layout)\n",
    "ScatterFigure = go.Figure(data = scatterdata, layout = layout2)\n",
    "\n",
    "colorscale1 = ['#7A4579', '#D56073', 'rgb(236,158,105)', (1, 1, 0.2), (0.98,0.98,0.98)]\n",
    "\n",
    "histogramFigure = ff.create_2d_density(t2.aid_to_exp,\n",
    "    t2.retain_value, colorscale=colorscale1,\n",
    "    hist_color='rgb(0, 68, 124)', point_size=3\n",
    ")\n",
    "\n",
    "#plot graphs to plotly\n",
    "py.iplot(histogramFigure, filename='histogram_subplots')\n",
    "py.iplot(ScatterFigure, filename = 'ScatterPlot')\n",
    "py.iplot(barFigure, filename = 'BarChart')\n",
    "\n",
    "\n"
   ]
  },
  {
   "cell_type": "code",
   "execution_count": 3,
   "metadata": {
    "scrolled": false
   },
   "outputs": [
    {
     "name": "stdout",
     "output_type": "stream",
     "text": [
      "0.2359628600672613\n"
     ]
    },
    {
     "data": {
      "text/html": [
       "<iframe id=\"igraph\" scrolling=\"no\" style=\"border:none;\" seamless=\"seamless\" src=\"https://plot.ly/~nquand9t8/5.embed\" height=\"525px\" width=\"100%\"></iframe>"
      ],
      "text/plain": [
       "<plotly.tools.PlotlyDisplay object>"
      ]
     },
     "execution_count": 3,
     "metadata": {},
     "output_type": "execute_result"
    }
   ],
   "source": [
    "#use cleaned data for futher research\n",
    "#create choropleth for states ratio values\n",
    "values = t2['aid_to_exp'].values\n",
    "print(values.max())\n",
    "scl = [[0.0, 'rgb(242,240,247)'],[0.2, 'rgb(218,218,235)'],[0.4, 'rgb(188,189,220)'],\\\n",
    "            [0.6, 'rgb(158,154,200)'],[0.8, 'rgb(117,107,177)'],[1.0, 'rgb(84,39,143)']]\n",
    "\n",
    "data = [ dict(\n",
    "        type='choropleth',\n",
    "        colorscale = scl,\n",
    "        autocolorscale = False,\n",
    "        locations = t2['state_code'],\n",
    "        z = values.astype(float),\n",
    "        locationmode = 'USA-states',\n",
    "        text = \"\",\n",
    "        marker = dict(\n",
    "            line = dict (\n",
    "                color = 'rgb(255,255,255)',\n",
    "                width = 2\n",
    "            )\n",
    "        ),\n",
    "        colorbar = dict(\n",
    "            title = \"Ratio of Aid Given to Cost of Attending\"\n",
    "        )\n",
    "    ) ]\n",
    "layout = dict(\n",
    "        title = 'Aid of Schools',\n",
    "        geo = dict(\n",
    "            scope='usa',\n",
    "            projection=dict( type='albers usa' ),\n",
    "            showlakes = True,\n",
    "            lakecolor = 'rgb(255, 255, 255)',\n",
    "        ),\n",
    "    )\n",
    "\n",
    "fig = dict(data=data, layout=layout)\n",
    "\n",
    "py.iplot(fig, filename='d3-cloropleth-map1')"
   ]
  },
  {
   "cell_type": "code",
   "execution_count": 4,
   "metadata": {},
   "outputs": [
    {
     "name": "stdout",
     "output_type": "stream",
     "text": [
      "100.0\n"
     ]
    },
    {
     "data": {
      "text/html": [
       "<iframe id=\"igraph\" scrolling=\"no\" style=\"border:none;\" seamless=\"seamless\" src=\"https://plot.ly/~nquand9t8/7.embed\" height=\"525px\" width=\"100%\"></iframe>"
      ],
      "text/plain": [
       "<plotly.tools.PlotlyDisplay object>"
      ]
     },
     "execution_count": 4,
     "metadata": {},
     "output_type": "execute_result"
    }
   ],
   "source": [
    "#use cleaned data for futher research\n",
    "\n",
    "#create choropleth for states retention values\n",
    "values2 = t2['retain_value'].values\n",
    "print(values2.max())\n",
    "scl2 = [[0.0, 'rgb(242,240,247)'],[0.2, 'rgb(218,218,235)'],[0.4, 'rgb(188,189,220)'],\\\n",
    "            [0.6, 'rgb(158,154,200)'],[0.8, 'rgb(117,107,177)'],[1.0, 'rgb(84,39,143)']]\n",
    "\n",
    "\n",
    "data2 = [ dict(\n",
    "        type='choropleth',\n",
    "        colorscale = scl2,\n",
    "        autocolorscale = True,\n",
    "        locations = t2['state_code'],\n",
    "        z = values2.astype(float),\n",
    "        locationmode = 'USA-states',\n",
    "        text = \"\",\n",
    "        marker = dict(\n",
    "            line = dict (\n",
    "                color = 'rgb(255,255,255)',\n",
    "                width = 2\n",
    "            )\n",
    "        ),\n",
    "        colorbar = dict(\n",
    "            title = \"Percent of Retainment\"\n",
    "        )\n",
    "    ) ]\n",
    "layout2 = dict(\n",
    "        title = 'Retention Rate',\n",
    "        geo = dict(\n",
    "            scope='usa',\n",
    "            projection=dict( type='albers usa' ),\n",
    "            showlakes = True,\n",
    "            lakecolor = 'rgb(255, 255, 255)',\n",
    "        ),\n",
    "    )\n",
    "\n",
    "fig2 = dict(data=data2, layout=layout2)\n",
    "\n",
    "py.iplot(fig2, filename='d3-cloropleth-map2')"
   ]
  },
  {
   "cell_type": "code",
   "execution_count": 27,
   "metadata": {
    "scrolled": false
   },
   "outputs": [
    {
     "name": "stderr",
     "output_type": "stream",
     "text": [
      "C:\\Anaconda3\\lib\\site-packages\\ipykernel_launcher.py:6: RuntimeWarning:\n",
      "\n",
      "divide by zero encountered in true_divide\n",
      "\n"
     ]
    },
    {
     "data": {
      "text/html": [
       "<iframe id=\"igraph\" scrolling=\"no\" style=\"border:none;\" seamless=\"seamless\" src=\"https://plot.ly/~nquand9t8/17.embed\" height=\"525px\" width=\"100%\"></iframe>"
      ],
      "text/plain": [
       "<plotly.tools.PlotlyDisplay object>"
      ]
     },
     "execution_count": 27,
     "metadata": {},
     "output_type": "execute_result"
    }
   ],
   "source": [
    "#create a sample table for the paper\n",
    "table1 = Table.read_table('https://raw.githubusercontent.com/nquandt98/project1cosc3570nquandt/master/cc_institution_details.csv', encoding='ANSI')\n",
    "\n",
    "table1 = table1.sample(10).select('chronname','state','control','student_count','aid_value','exp_award_value')\n",
    "table1 = table1.with_column('aid_to_exp', table1.column('aid_value')/table1.column('exp_award_value'))\n",
    "tabledf = table1.to_df()\n",
    "tablefile = go.Table(\n",
    "    header=dict(values=['College','State','Type','Student Count','Financial Aid Given', 'Cost of Attending til Gradution', 'Aid/Cost'],\n",
    "                fill = dict(color='#C2D4FF'),\n",
    "                align = ['left'] * 5),\n",
    "    cells=dict(values=[tabledf.chronname,tabledf.state,tabledf.control,tabledf.student_count,tabledf.aid_value,tabledf.exp_award_value,tabledf.aid_to_exp],\n",
    "               fill = dict(color='#F5F8FF'),\n",
    "               align = ['left'] * 5))\n",
    "\n",
    "datatable = [tablefile] \n",
    "figtable = go.Figure(data=datatable)\n",
    "py.iplot(datatable, filename = 'example_sample')"
   ]
  },
  {
   "cell_type": "code",
   "execution_count": 34,
   "metadata": {},
   "outputs": [
    {
     "data": {
      "text/html": [
       "<iframe id=\"igraph\" scrolling=\"no\" style=\"border:none;\" seamless=\"seamless\" src=\"https://plot.ly/~nquand9t8/13.embed\" height=\"525px\" width=\"100%\"></iframe>"
      ],
      "text/plain": [
       "<plotly.tools.PlotlyDisplay object>"
      ]
     },
     "execution_count": 34,
     "metadata": {},
     "output_type": "execute_result"
    }
   ],
   "source": [
    "#create a scatter of california schools only\n",
    "#attempt to say california has higher rates and better ratios\n",
    "californiaschools = t[t.state == 'California']\n",
    "\n",
    "caltrace = go.Scatter(\n",
    "    x=californiaschools.retain_value,y=californiaschools.aid_to_exp,\n",
    "    mode = 'markers',\n",
    "    name = 'California Only',\n",
    "    marker = dict(\n",
    "        size = 10,\n",
    "        color = 'rgba(152, 0, 0, .8)',\n",
    "        line = dict(\n",
    "            width = 2,\n",
    "            color = 'rgb(0, 0, 0)'\n",
    "        )\n",
    "    )\n",
    ")\n",
    "linetrace = go.Scatter(\n",
    "    x = [70,100],\n",
    "    y = [.15,.15],\n",
    "    mode = 'lines',\n",
    "    name = '.15 Line')\n",
    "\n",
    "calscatterdata = [caltrace,linetrace]\n",
    "callayout = {'xaxis': {'title': 'Retention Percentage of Students 1st-2nd Year'},\n",
    "  'yaxis': {'title': 'Ratio of Aid Given to Cost of Attending'},\n",
    "    'title': 'Scatter California'}\n",
    "calfig = go.Figure(data = calscatterdata, layout = callayout)\n",
    "\n",
    "\n",
    "py.iplot(calfig, filename = 'CalScatterPlot')\n"
   ]
  },
  {
   "cell_type": "code",
   "execution_count": null,
   "metadata": {},
   "outputs": [],
   "source": [
    "#this is extra code that I had use to convert lat long to FIPS,\n",
    "#but because it is a json response parser the code takes to long to run\n",
    "#everytime thus I just replaced my entire csv with the new one\n",
    "\n",
    "#latindex = df.columns.get_loc(\"lat_y\")+1\n",
    "#lonindex = df.columns.get_loc(\"long_x\")+1\n",
    "#i=0\n",
    "#result_array = numpy.array([])\n",
    "#for row in df.itertuples():\n",
    "    #url = ('https://geo.fcc.gov/api/census/block/find?latitude=' + str(\"%.2f\" % float(row[latindex])) + '&longitude=' + str(\"%.2f\" % float(row[lonindex])) + '&format=json')\n",
    "    #response = requests.get(url)\n",
    "    #locdata = response.json()\n",
    "   # result_array = numpy.append(result_array, str(locdata['County']['FIPS']))\n",
    "  #  i+=1\n",
    " #   print(i,end=\"\\r\")\n",
    "#df['FIPS'] = pd.Series(result_array)\n",
    "\n",
    "#df.to_csv('df21.csv', encoding='ANSI', index=False)\n"
   ]
  }
 ],
 "metadata": {
  "kernelspec": {
   "display_name": "Python 3",
   "language": "python",
   "name": "python3"
  },
  "language_info": {
   "codemirror_mode": {
    "name": "ipython",
    "version": 3
   },
   "file_extension": ".py",
   "mimetype": "text/x-python",
   "name": "python",
   "nbconvert_exporter": "python",
   "pygments_lexer": "ipython3",
   "version": "3.6.5"
  }
 },
 "nbformat": 4,
 "nbformat_minor": 2
}
